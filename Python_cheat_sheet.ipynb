{
 "cells": [
  {
   "cell_type": "markdown",
   "id": "2b73db16",
   "metadata": {},
   "source": [
    "# AUTHOR : SACHIN PATEL \n",
    "## M.S. Scholar \n",
    "## IIT Madras "
   ]
  },
  {
   "cell_type": "markdown",
   "id": "57c88b04",
   "metadata": {},
   "source": [
    "___"
   ]
  },
  {
   "cell_type": "markdown",
   "id": "b5412b1f",
   "metadata": {},
   "source": [
    "# Python Handy Commands "
   ]
  },
  {
   "cell_type": "markdown",
   "id": "5d0e8029",
   "metadata": {},
   "source": [
    "---"
   ]
  },
  {
   "cell_type": "markdown",
   "id": "f728eb8d",
   "metadata": {},
   "source": [
    "### How to take space separated input?"
   ]
  },
  {
   "cell_type": "code",
   "execution_count": 1,
   "id": "8b56341d",
   "metadata": {},
   "outputs": [
    {
     "name": "stdout",
     "output_type": "stream",
     "text": [
      "5 2\n"
     ]
    }
   ],
   "source": [
    "n,m = map(int,input().split())"
   ]
  },
  {
   "cell_type": "markdown",
   "id": "3804ced1",
   "metadata": {},
   "source": [
    "### How to convert any integer to octal, hexadecimal and binary?"
   ]
  },
  {
   "cell_type": "code",
   "execution_count": 2,
   "id": "c4674166",
   "metadata": {
    "scrolled": false
   },
   "outputs": [
    {
     "name": "stdout",
     "output_type": "stream",
     "text": [
      "Octal: 0o52\n",
      "Hexadecimal: 0x2a\n",
      "Binary: 0b101010\n"
     ]
    }
   ],
   "source": [
    "number = 42\n",
    "\n",
    "# Octal representation\n",
    "octal_value = oct(number)\n",
    "print(\"Octal:\", octal_value)\n",
    "\n",
    "# Hexadecimal representation\n",
    "hexadecimal_value = hex(number)\n",
    "print(\"Hexadecimal:\", hexadecimal_value)\n",
    "\n",
    "# Binary representation\n",
    "binary_value = bin(number)\n",
    "print(\"Binary:\", binary_value)"
   ]
  },
  {
   "cell_type": "markdown",
   "id": "f30b6b8e",
   "metadata": {},
   "source": [
    "### Binary, hexadecimal, octal start with 0b, 0x and 0o respectively."
   ]
  },
  {
   "cell_type": "code",
   "execution_count": 3,
   "id": "4b34a43d",
   "metadata": {},
   "outputs": [
    {
     "name": "stdout",
     "output_type": "stream",
     "text": [
      "23\n",
      "    1     1     1     1\n",
      "    2     2     2    10\n",
      "    3     3     3    11\n",
      "    4     4     4   100\n",
      "    5     5     5   101\n",
      "    6     6     6   110\n",
      "    7     7     7   111\n",
      "    8    10     8  1000\n",
      "    9    11     9  1001\n",
      "   10    12     A  1010\n",
      "   11    13     B  1011\n",
      "   12    14     C  1100\n",
      "   13    15     D  1101\n",
      "   14    16     E  1110\n",
      "   15    17     F  1111\n",
      "   16    20    10 10000\n",
      "   17    21    11 10001\n",
      "   18    22    12 10010\n",
      "   19    23    13 10011\n",
      "   20    24    14 10100\n",
      "   21    25    15 10101\n",
      "   22    26    16 10110\n",
      "   23    27    17 10111\n"
     ]
    }
   ],
   "source": [
    "def print_formatted(number):\n",
    "    width = len(bin(number)[2:])\n",
    "    for i in range(1, number + 1):\n",
    "        decimal = str(i)\n",
    "        octal = oct(i)[2:]\n",
    "        hexadecimal = hex(i)[2:].upper()\n",
    "        binary = bin(i)[2:]\n",
    "        print(decimal.rjust(width), octal.rjust(width), hexadecimal.rjust(width), binary.rjust(width))\n",
    "  \n",
    "\n",
    "if __name__ == '__main__':\n",
    "    n = int(input())\n",
    "    print_formatted(n)"
   ]
  },
  {
   "cell_type": "markdown",
   "id": "704e6b4e",
   "metadata": {},
   "source": [
    "### Range function returns values upto n-1"
   ]
  },
  {
   "cell_type": "code",
   "execution_count": 4,
   "id": "e803d4dd",
   "metadata": {},
   "outputs": [
    {
     "name": "stdout",
     "output_type": "stream",
     "text": [
      "0\n",
      "1\n",
      "2\n",
      "3\n",
      "4\n",
      "5\n",
      "6\n",
      "7\n"
     ]
    }
   ],
   "source": [
    "for i in range(8):\n",
    "    print(i)"
   ]
  },
  {
   "cell_type": "markdown",
   "id": "83e4baef",
   "metadata": {},
   "source": [
    "### Search for null rows or columns in pandas dataframe"
   ]
  },
  {
   "cell_type": "code",
   "execution_count": 5,
   "id": "07ab019a",
   "metadata": {},
   "outputs": [
    {
     "ename": "NameError",
     "evalue": "name 'df' is not defined",
     "output_type": "error",
     "traceback": [
      "\u001b[0;31m---------------------------------------------------------------------------\u001b[0m",
      "\u001b[0;31mNameError\u001b[0m                                 Traceback (most recent call last)",
      "\u001b[0;32m/tmp/ipykernel_11112/662455858.py\u001b[0m in \u001b[0;36m<module>\u001b[0;34m\u001b[0m\n\u001b[1;32m      1\u001b[0m \u001b[0;31m# df = pandas dataframe\u001b[0m\u001b[0;34m\u001b[0m\u001b[0;34m\u001b[0m\u001b[0m\n\u001b[0;32m----> 2\u001b[0;31m \u001b[0mnull_rows_idx\u001b[0m \u001b[0;34m=\u001b[0m \u001b[0mdf\u001b[0m\u001b[0;34m.\u001b[0m\u001b[0misnull\u001b[0m\u001b[0;34m(\u001b[0m\u001b[0;34m)\u001b[0m\u001b[0;34m.\u001b[0m\u001b[0many\u001b[0m\u001b[0;34m(\u001b[0m\u001b[0maxis\u001b[0m\u001b[0;34m=\u001b[0m\u001b[0;36m1\u001b[0m\u001b[0;34m)\u001b[0m\u001b[0;34m\u001b[0m\u001b[0;34m\u001b[0m\u001b[0m\n\u001b[0m\u001b[1;32m      3\u001b[0m \u001b[0;31m# Locating the null entries\u001b[0m\u001b[0;34m\u001b[0m\u001b[0;34m\u001b[0m\u001b[0m\n\u001b[1;32m      4\u001b[0m \u001b[0mdf\u001b[0m\u001b[0;34m.\u001b[0m\u001b[0mloc\u001b[0m\u001b[0;34m[\u001b[0m\u001b[0mnull_rows_idx\u001b[0m\u001b[0;34m]\u001b[0m\u001b[0;34m\u001b[0m\u001b[0;34m\u001b[0m\u001b[0m\n",
      "\u001b[0;31mNameError\u001b[0m: name 'df' is not defined"
     ]
    }
   ],
   "source": [
    "# df = pandas dataframe\n",
    "null_rows_idx = df.isnull().any(axis=1)\n",
    "# Locating the null entries\n",
    "df.loc[null_rows_idx]"
   ]
  },
  {
   "cell_type": "markdown",
   "id": "bbbabe47",
   "metadata": {},
   "source": [
    "### How to print first N alphabets?"
   ]
  },
  {
   "cell_type": "code",
   "execution_count": null,
   "id": "a37f9e2e",
   "metadata": {},
   "outputs": [],
   "source": [
    "import string\n",
    "N = int(input(\"Value of N: \"))\n",
    "alpha = string.ascii_lowercase[:N]\n",
    "for i in alpha:\n",
    "    print(i)"
   ]
  },
  {
   "cell_type": "markdown",
   "id": "fd3d18b4",
   "metadata": {},
   "source": [
    "### Alphabet Rangoli Pattern"
   ]
  },
  {
   "cell_type": "code",
   "execution_count": null,
   "id": "5484a1c1",
   "metadata": {},
   "outputs": [],
   "source": [
    "def rangoli(n):\n",
    "    alpha = string.ascii_lowercase[:n]\n",
    "    width = 4*n-3\n",
    "    for i in range(n-1,0,-1):\n",
    "        if n==1:\n",
    "            print(alpha)\n",
    "        else:\n",
    "            row = \"-\".join(alpha[i:n])\n",
    "            pattern = row[::-1] + row[1:]\n",
    "            print(pattern.center(width,\"-\"))\n",
    "    if n==1:\n",
    "        print(alpha)\n",
    "    else:\n",
    "        middle_row = \"-\".join(alpha[::-1]) + \"-\" + \"-\".join(alpha[1:])\n",
    "        print((middle_row).center(width,\"-\"))\n",
    "    \n",
    "    for i in range(1,n):\n",
    "        if n==1:\n",
    "            print(alpha)\n",
    "        else:\n",
    "            row = \"-\".join(alpha[i:n])\n",
    "            pattern = row[::-1] + row[1:]\n",
    "            print(pattern.center(width,\"-\"))"
   ]
  },
  {
   "cell_type": "code",
   "execution_count": null,
   "id": "f4f775b1",
   "metadata": {},
   "outputs": [],
   "source": [
    "if __name__==\"__main__\":\n",
    "    n = int(input())\n",
    "    rangoli(n)"
   ]
  },
  {
   "cell_type": "markdown",
   "id": "eb1d9ac6",
   "metadata": {},
   "source": [
    "### How to capitalize a letter of a word?"
   ]
  },
  {
   "cell_type": "code",
   "execution_count": null,
   "id": "5e63112b",
   "metadata": {
    "scrolled": true
   },
   "outputs": [],
   "source": [
    "def solve(s):\n",
    "    spt= s.split(\" \")\n",
    "    new_list = []\n",
    "    for i in spt:\n",
    "        word = i.capitalize()\n",
    "        new_list.append(word)\n",
    "   \n",
    "    return(\" \".join(new_list))\n",
    "\n",
    "solve(input())"
   ]
  },
  {
   "cell_type": "markdown",
   "id": "4f0e6f4d",
   "metadata": {},
   "source": [
    "### How to convert a string into a list of single characters?"
   ]
  },
  {
   "cell_type": "code",
   "execution_count": null,
   "id": "dbd92492",
   "metadata": {},
   "outputs": [],
   "source": [
    "s = 'Raymondstt'\n",
    "t = [] \n",
    "for i in range(len(s)):\n",
    "    t.append(s[i])\n",
    "    print(t)"
   ]
  },
  {
   "cell_type": "markdown",
   "id": "353b9330",
   "metadata": {},
   "source": [
    "### How to convert a string into unique substrings each of length specified by the user?"
   ]
  },
  {
   "cell_type": "code",
   "execution_count": null,
   "id": "42096600",
   "metadata": {},
   "outputs": [],
   "source": [
    "import textwrap\n",
    "c = textwrap.wrap(s,2)\n",
    "for i in c: \n",
    "    p = \"\"\n",
    "    for j in i:\n",
    "        if j not in p:\n",
    "            p = p + j\n",
    "    print(p)"
   ]
  },
  {
   "cell_type": "markdown",
   "id": "6d27d09f",
   "metadata": {},
   "source": [
    "### The list(map(...)) construct\n",
    "**Helps you iterate over each character in a list.**"
   ]
  },
  {
   "cell_type": "code",
   "execution_count": null,
   "id": "f8a2802f",
   "metadata": {},
   "outputs": [],
   "source": [
    "numbers = [1,2,3,4,5]\n",
    "squared_num = list(map(lambda x: x**2, numbers))\n",
    "print(squared_num)"
   ]
  },
  {
   "cell_type": "markdown",
   "id": "feb46c71",
   "metadata": {},
   "source": [
    "### How to take input on separate lines and convert it into lists/arrays ?"
   ]
  },
  {
   "cell_type": "code",
   "execution_count": null,
   "id": "e1321872",
   "metadata": {},
   "outputs": [],
   "source": [
    "import numpy as np\n",
    "lst = [np.array(input().split(), int) for _ in range(2)]\n",
    "lst"
   ]
  },
  {
   "cell_type": "code",
   "execution_count": null,
   "id": "35984cc7",
   "metadata": {},
   "outputs": [],
   "source": [
    "# Or you can try the following \n",
    "a1 = list(map(int,input().split()))\n",
    "a2 = list(map(int,input().split()))\n",
    "print(a1,\"\\n\",a2)"
   ]
  },
  {
   "cell_type": "markdown",
   "id": "9c48416e",
   "metadata": {},
   "source": [
    "### Permutations of an iterable"
   ]
  },
  {
   "cell_type": "code",
   "execution_count": null,
   "id": "2134b9db",
   "metadata": {},
   "outputs": [],
   "source": [
    "l1 = ['a','b','c']\n",
    "sd = 'sac'\n",
    "from itertools import permutations\n",
    "print(permutations(l1))\n",
    "print(list(permutations(l1)))\n",
    "print(list(permutations(sd)))"
   ]
  },
  {
   "cell_type": "markdown",
   "id": "346dcdf7",
   "metadata": {},
   "source": [
    "### Counter tool\n",
    "<br>\n",
    "\n",
    "collections.Counter() <br>\n",
    "A counter is a container that stores elements as dictionary keys, and their counts are stored as dictionary values."
   ]
  },
  {
   "cell_type": "code",
   "execution_count": null,
   "id": "70e99e3a",
   "metadata": {},
   "outputs": [],
   "source": [
    "from collections import Counter\n",
    "myList = [1,1,2,3,4,5,3,2,3,4,2,1,2,3]\n",
    "print(Counter(myList))"
   ]
  },
  {
   "cell_type": "code",
   "execution_count": null,
   "id": "5f60545e",
   "metadata": {},
   "outputs": [],
   "source": [
    "# Items od dictionary in ascending order\n",
    "print(Counter(myList).items())"
   ]
  },
  {
   "cell_type": "code",
   "execution_count": null,
   "id": "a56e1182",
   "metadata": {},
   "outputs": [],
   "source": [
    "print(Counter(myList).keys())"
   ]
  },
  {
   "cell_type": "code",
   "execution_count": null,
   "id": "9e57cead",
   "metadata": {},
   "outputs": [],
   "source": [
    "print(Counter(myList).values())"
   ]
  },
  {
   "cell_type": "markdown",
   "id": "d4dba2fc",
   "metadata": {},
   "source": [
    "### How to append keys and elements to a dictionary?"
   ]
  },
  {
   "cell_type": "code",
   "execution_count": null,
   "id": "daca01b4",
   "metadata": {},
   "outputs": [],
   "source": [
    "# X = no. of shoes\n",
    "# N = no. of customers\n",
    "# sizes = list of available sizes\n",
    "# Next N lines contain two space separated values, one is size and next is the price paid by customer\n",
    "if __name__==\"__main__\":\n",
    "    X = int(input())\n",
    "    sizes = list(map(int,input().split()))\n",
    "    N = int(input())\n",
    "    dic = {}\n",
    "    for i in range(N):\n",
    "        inp = input().split()  \n",
    "        key = int(inp[0])      \n",
    "        value = int(inp[1])    \n",
    "        dic[key] = value\n",
    "    print(\"Resulting Dictionary: \",dic)"
   ]
  },
  {
   "cell_type": "markdown",
   "id": "f51678ea",
   "metadata": {},
   "source": [
    "### Intro to Sets \n",
    "\n",
    "A set is an unordered collection of elements without duplicate entries.\n",
    "\n",
    "When printed, iterated or converted into a sequence, its elements will appear in an arbitrary order.\n",
    "\n",
    "Basically, sets are used for membership testing and eliminating duplicate entries."
   ]
  },
  {
   "cell_type": "code",
   "execution_count": null,
   "id": "df66929d",
   "metadata": {},
   "outputs": [],
   "source": [
    "print(set(\"Sachin\"))"
   ]
  },
  {
   "cell_type": "code",
   "execution_count": null,
   "id": "e2350b58",
   "metadata": {},
   "outputs": [],
   "source": [
    "print(set([1,1,2,2,3,3,4,4,5,5,8]))"
   ]
  },
  {
   "cell_type": "code",
   "execution_count": null,
   "id": "1f9dfc99",
   "metadata": {},
   "outputs": [],
   "source": [
    "print(set({'sac':23,'amt':24}))"
   ]
  },
  {
   "cell_type": "code",
   "execution_count": null,
   "id": "003b1ded",
   "metadata": {},
   "outputs": [],
   "source": [
    "myset = set(['a', 'b'])\n",
    "myset"
   ]
  },
  {
   "cell_type": "code",
   "execution_count": null,
   "id": "1f81b619",
   "metadata": {},
   "outputs": [],
   "source": [
    "myset.add('c')\n",
    "myset"
   ]
  },
  {
   "cell_type": "code",
   "execution_count": null,
   "id": "aa189fec",
   "metadata": {},
   "outputs": [],
   "source": [
    "myset.add((5, 4))\n",
    "myset"
   ]
  },
  {
   "cell_type": "code",
   "execution_count": null,
   "id": "ccd3a95d",
   "metadata": {},
   "outputs": [],
   "source": [
    "myset.update([1, 2, 3, 4]) # update() only works for iterable objects\n",
    "myset"
   ]
  },
  {
   "cell_type": "code",
   "execution_count": null,
   "id": "a321ef9a",
   "metadata": {},
   "outputs": [],
   "source": [
    "myset.update({1, 7, 8})\n",
    "myset"
   ]
  },
  {
   "cell_type": "code",
   "execution_count": null,
   "id": "4bcf2b8e",
   "metadata": {},
   "outputs": [],
   "source": [
    "myset.update({1, 6}, [5, 13])\n",
    "myset"
   ]
  },
  {
   "cell_type": "markdown",
   "id": "d2f34a48",
   "metadata": {},
   "source": [
    "---"
   ]
  },
  {
   "cell_type": "markdown",
   "id": "a31e1b09",
   "metadata": {},
   "source": [
    "**Both the discard() and remove() functions take a single value as an argument and removes that value from the set. If that value is not present, discard() does nothing, but remove() will raise a KeyError exception.**"
   ]
  },
  {
   "cell_type": "markdown",
   "id": "38dcd85f",
   "metadata": {},
   "source": [
    "---"
   ]
  },
  {
   "cell_type": "code",
   "execution_count": null,
   "id": "d42b9ac3",
   "metadata": {},
   "outputs": [],
   "source": [
    "myset.discard(10)\n",
    "myset"
   ]
  },
  {
   "cell_type": "code",
   "execution_count": null,
   "id": "0cbd3cb7",
   "metadata": {},
   "outputs": [],
   "source": [
    "myset.remove(13)\n",
    "myset"
   ]
  },
  {
   "cell_type": "markdown",
   "id": "d88c847c",
   "metadata": {},
   "source": [
    "### COMMON SET OPERATIONS Using union(), intersection() and difference() functions. "
   ]
  },
  {
   "cell_type": "code",
   "execution_count": 6,
   "id": "94b49834",
   "metadata": {},
   "outputs": [
    {
     "data": {
      "text/plain": [
       "{2, 4, 5, 9, 11, 12}"
      ]
     },
     "execution_count": 6,
     "metadata": {},
     "output_type": "execute_result"
    }
   ],
   "source": [
    "a = {2, 4, 5, 9}\n",
    "b = {2, 4, 11, 12}\n",
    "a.union(b) # Values which exist in a or b"
   ]
  },
  {
   "cell_type": "code",
   "execution_count": 7,
   "id": "16d78f12",
   "metadata": {},
   "outputs": [
    {
     "data": {
      "text/plain": [
       "{2, 4}"
      ]
     },
     "execution_count": 7,
     "metadata": {},
     "output_type": "execute_result"
    }
   ],
   "source": [
    "a.intersection(b) # Values which exist in a and b"
   ]
  },
  {
   "cell_type": "code",
   "execution_count": 8,
   "id": "18387194",
   "metadata": {},
   "outputs": [
    {
     "data": {
      "text/plain": [
       "{5, 9}"
      ]
     },
     "execution_count": 8,
     "metadata": {},
     "output_type": "execute_result"
    }
   ],
   "source": [
    "a.difference(b) # Values which exist in a but not in b"
   ]
  },
  {
   "cell_type": "code",
   "execution_count": 9,
   "id": "4e9f002e",
   "metadata": {},
   "outputs": [
    {
     "data": {
      "text/plain": [
       "True"
      ]
     },
     "execution_count": 9,
     "metadata": {},
     "output_type": "execute_result"
    }
   ],
   "source": [
    "a.union(b) == b.union(a)"
   ]
  },
  {
   "cell_type": "code",
   "execution_count": 10,
   "id": "e610ea65",
   "metadata": {},
   "outputs": [
    {
     "data": {
      "text/plain": [
       "True"
      ]
     },
     "execution_count": 10,
     "metadata": {},
     "output_type": "execute_result"
    }
   ],
   "source": [
    "a.intersection(b) == b.intersection(a)"
   ]
  },
  {
   "cell_type": "code",
   "execution_count": 11,
   "id": "be6cb1b9",
   "metadata": {},
   "outputs": [
    {
     "data": {
      "text/plain": [
       "False"
      ]
     },
     "execution_count": 11,
     "metadata": {},
     "output_type": "execute_result"
    }
   ],
   "source": [
    "a.difference(b) == b.difference(a)"
   ]
  },
  {
   "cell_type": "markdown",
   "id": "a4c5cc05",
   "metadata": {},
   "source": [
    "### Finding average of distinct elements in a set"
   ]
  },
  {
   "cell_type": "code",
   "execution_count": null,
   "id": "a492eadd",
   "metadata": {},
   "outputs": [],
   "source": [
    "def average(array):\n",
    "    # your code goes here\n",
    "    heights = set(array)\n",
    "    avg = print(f'{float(sum(list(heights)))/float(len(heights)):.3f}')\n",
    "    return avg\n",
    "    \n",
    "\n",
    "if __name__ == '__main__':\n",
    "    n = int(input())\n",
    "    arr = list(map(int, input().split()))\n",
    "    result = average(arr)\n",
    "    print(result)"
   ]
  },
  {
   "cell_type": "markdown",
   "id": "267f546f",
   "metadata": {},
   "source": [
    "### DefaultDict tutorial\n"
   ]
  },
  {
   "cell_type": "code",
   "execution_count": 2,
   "id": "f55395e7",
   "metadata": {},
   "outputs": [
    {
     "data": {
      "text/plain": [
       "defaultdict(list,\n",
       "            {'python': ['awesome', 'language'],\n",
       "             'something-else': ['not relevant']})"
      ]
     },
     "execution_count": 2,
     "metadata": {},
     "output_type": "execute_result"
    }
   ],
   "source": [
    "from collections import defaultdict\n",
    "d = defaultdict(list)\n",
    "d['python'].append(\"awesome\")\n",
    "d['something-else'].append(\"not relevant\")\n",
    "d['python'].append(\"language\")\n",
    "d"
   ]
  },
  {
   "cell_type": "code",
   "execution_count": 3,
   "id": "a0187e07",
   "metadata": {},
   "outputs": [
    {
     "name": "stdout",
     "output_type": "stream",
     "text": [
      "('python', ['awesome', 'language'])\n",
      "('something-else', ['not relevant'])\n"
     ]
    }
   ],
   "source": [
    "for i in d.items():\n",
    "    print(i)"
   ]
  },
  {
   "cell_type": "markdown",
   "id": "b4f6c8ef",
   "metadata": {},
   "source": [
    "### Enumerate function and its use"
   ]
  },
  {
   "cell_type": "code",
   "execution_count": 8,
   "id": "9d7798b5",
   "metadata": {},
   "outputs": [
    {
     "data": {
      "text/plain": [
       "[(1, 10), (2, 20), (3, 30), (4, 40)]"
      ]
     },
     "execution_count": 8,
     "metadata": {},
     "output_type": "execute_result"
    }
   ],
   "source": [
    "# enumerate takes two arguments, an iterable, for ex. a list or a tuple, and starting index, \n",
    "# i.e. from what index to start\n",
    "a = [10,20,30,40]\n",
    "temp=list(enumerate(a,start=1))\n",
    "temp"
   ]
  },
  {
   "cell_type": "markdown",
   "id": "d6087230",
   "metadata": {},
   "source": [
    "### Calendar Module\n",
    "This class can be used to generate plain text calendars.\n",
    "The firstweekday parameter is set to 3, which corresponds to Wednesday. This means that the week will start with Wednesday as the first day, and the remaining days of the week will follow in their regular order (Thursday, Friday, Saturday, Sunday, Monday, Tuesday)."
   ]
  },
  {
   "cell_type": "code",
   "execution_count": 10,
   "id": "def8044c",
   "metadata": {
    "scrolled": false
   },
   "outputs": [
    {
     "name": "stdout",
     "output_type": "stream",
     "text": [
      "                                  2023\n",
      "\n",
      "      January                   February                   March\n",
      "Th Fr Sa Su Mo Tu We      Th Fr Sa Su Mo Tu We      Th Fr Sa Su Mo Tu We\n",
      "          1  2  3  4                         1                         1\n",
      " 5  6  7  8  9 10 11       2  3  4  5  6  7  8       2  3  4  5  6  7  8\n",
      "12 13 14 15 16 17 18       9 10 11 12 13 14 15       9 10 11 12 13 14 15\n",
      "19 20 21 22 23 24 25      16 17 18 19 20 21 22      16 17 18 19 20 21 22\n",
      "26 27 28 29 30 31         23 24 25 26 27 28         23 24 25 26 27 28 29\n",
      "                                                    30 31\n",
      "\n",
      "       April                      May                       June\n",
      "Th Fr Sa Su Mo Tu We      Th Fr Sa Su Mo Tu We      Th Fr Sa Su Mo Tu We\n",
      "       1  2  3  4  5                   1  2  3       1  2  3  4  5  6  7\n",
      " 6  7  8  9 10 11 12       4  5  6  7  8  9 10       8  9 10 11 12 13 14\n",
      "13 14 15 16 17 18 19      11 12 13 14 15 16 17      15 16 17 18 19 20 21\n",
      "20 21 22 23 24 25 26      18 19 20 21 22 23 24      22 23 24 25 26 27 28\n",
      "27 28 29 30               25 26 27 28 29 30 31      29 30\n",
      "\n",
      "        July                     August                  September\n",
      "Th Fr Sa Su Mo Tu We      Th Fr Sa Su Mo Tu We      Th Fr Sa Su Mo Tu We\n",
      "       1  2  3  4  5                      1  2          1  2  3  4  5  6\n",
      " 6  7  8  9 10 11 12       3  4  5  6  7  8  9       7  8  9 10 11 12 13\n",
      "13 14 15 16 17 18 19      10 11 12 13 14 15 16      14 15 16 17 18 19 20\n",
      "20 21 22 23 24 25 26      17 18 19 20 21 22 23      21 22 23 24 25 26 27\n",
      "27 28 29 30 31            24 25 26 27 28 29 30      28 29 30\n",
      "                          31\n",
      "\n",
      "      October                   November                  December\n",
      "Th Fr Sa Su Mo Tu We      Th Fr Sa Su Mo Tu We      Th Fr Sa Su Mo Tu We\n",
      "          1  2  3  4                         1          1  2  3  4  5  6\n",
      " 5  6  7  8  9 10 11       2  3  4  5  6  7  8       7  8  9 10 11 12 13\n",
      "12 13 14 15 16 17 18       9 10 11 12 13 14 15      14 15 16 17 18 19 20\n",
      "19 20 21 22 23 24 25      16 17 18 19 20 21 22      21 22 23 24 25 26 27\n",
      "26 27 28 29 30 31         23 24 25 26 27 28 29      28 29 30 31\n",
      "                          30\n",
      "\n"
     ]
    }
   ],
   "source": [
    "import calendar\n",
    "print(calendar.TextCalendar(firstweekday=3).formatyear(2023))"
   ]
  },
  {
   "cell_type": "code",
   "execution_count": 13,
   "id": "5d576e56",
   "metadata": {},
   "outputs": [
    {
     "name": "stdout",
     "output_type": "stream",
     "text": [
      "08 05 2002\n"
     ]
    }
   ],
   "source": [
    "date=list(map(int,input().split()))"
   ]
  },
  {
   "cell_type": "code",
   "execution_count": 14,
   "id": "442d4390",
   "metadata": {},
   "outputs": [
    {
     "data": {
      "text/plain": [
       "[8, 5, 2002]"
      ]
     },
     "execution_count": 14,
     "metadata": {},
     "output_type": "execute_result"
    }
   ],
   "source": [
    "date"
   ]
  },
  {
   "cell_type": "markdown",
   "id": "35d3274c",
   "metadata": {},
   "source": [
    "### Handling Exceptions\n",
    "\n",
    "**ZeroDivisionError**\n",
    "\n",
    "This error is raised when the second argument of a division or modulo operation is zero.\n",
    "\n",
    "**ValueError**\n",
    "\n",
    "This error is raised when a built-in operation or function receives an argument that has the right type but an inappropriate value. "
   ]
  },
  {
   "cell_type": "code",
   "execution_count": 16,
   "id": "554db45d",
   "metadata": {
    "scrolled": true
   },
   "outputs": [
    {
     "name": "stdout",
     "output_type": "stream",
     "text": [
      "2\n",
      "1 3\n",
      "0\n",
      "1 $\n",
      "Error Code: invalid literal for int() with base 10: '$'\n"
     ]
    }
   ],
   "source": [
    "if __name__==\"__main__\":\n",
    "    t=int(input())\n",
    "    for i  in range(t):\n",
    "        t1, t2 = input().split()\n",
    "        try:\n",
    "            print(int(t1)//int(t2))\n",
    "        except ZeroDivisionError as e:\n",
    "            print(\"Error Code:\",e)\n",
    "        except ValueError as v:\n",
    "            print(\"Error Code:\",v)"
   ]
  },
  {
   "cell_type": "markdown",
   "id": "ff00cbdd",
   "metadata": {},
   "source": [
    "---"
   ]
  },
  {
   "cell_type": "markdown",
   "id": "9f92d1af",
   "metadata": {},
   "source": [
    "### collections.namedtuple()\n",
    "\n",
    "#### Basically, namedtuples are easy to create, lightweight object types.\n",
    "#### They turn tuples into convenient containers for simple tasks.\n",
    "#### With namedtuples, you don’t have to use integer indices for accessing members of a tuple."
   ]
  },
  {
   "cell_type": "code",
   "execution_count": 1,
   "id": "59369d12",
   "metadata": {},
   "outputs": [
    {
     "data": {
      "text/plain": [
       "11"
      ]
     },
     "execution_count": 1,
     "metadata": {},
     "output_type": "execute_result"
    }
   ],
   "source": [
    "from collections import namedtuple\n",
    "Point = namedtuple('Point','x,y')\n",
    "pt1 = Point(1,2)\n",
    "pt2 = Point(3,4)\n",
    "dot_product = ( pt1.x * pt2.x ) +( pt1.y * pt2.y )\n",
    "dot_product"
   ]
  },
  {
   "cell_type": "code",
   "execution_count": 2,
   "id": "d9adc386",
   "metadata": {},
   "outputs": [
    {
     "data": {
      "text/plain": [
       "Car(Price=100000, Mileage=30, Colour='Cyan', Class='Y')"
      ]
     },
     "execution_count": 2,
     "metadata": {},
     "output_type": "execute_result"
    }
   ],
   "source": [
    "Car = namedtuple('Car','Price Mileage Colour Class')\n",
    "xyz = Car(Price = 100000, Mileage = 30, Colour = 'Cyan', Class = 'Y')\n",
    "xyz"
   ]
  },
  {
   "cell_type": "code",
   "execution_count": 3,
   "id": "c89494ff",
   "metadata": {
    "scrolled": true
   },
   "outputs": [
    {
     "data": {
      "text/plain": [
       "'Y'"
      ]
     },
     "execution_count": 3,
     "metadata": {},
     "output_type": "execute_result"
    }
   ],
   "source": [
    "xyz.Class"
   ]
  },
  {
   "cell_type": "code",
   "execution_count": 4,
   "id": "0453ec9b",
   "metadata": {},
   "outputs": [
    {
     "data": {
      "text/plain": [
       "30"
      ]
     },
     "execution_count": 4,
     "metadata": {},
     "output_type": "execute_result"
    }
   ],
   "source": [
    "xyz.Mileage"
   ]
  },
  {
   "cell_type": "markdown",
   "id": "6ae7ffe5",
   "metadata": {},
   "source": [
    "## Unpacking data or elements"
   ]
  },
  {
   "cell_type": "markdown",
   "id": "11b2a3a0",
   "metadata": {},
   "source": [
    "In the example, the \\* operator unpacks the list elements into separate arguments, which are then used to create a new instance of the Student named tuple.\n",
    "\n",
    "Using the \\*input().split() in the line student(\\*input().split()) is a concise way to create a new instance of the named tuple student with the input data assigned to its fields. The elements read from the input line will be assigned to the corresponding fields of the named tuple."
   ]
  },
  {
   "cell_type": "code",
   "execution_count": 9,
   "id": "cd9869fa",
   "metadata": {},
   "outputs": [],
   "source": [
    "students = [student(*input().split()) for _ in range(n)]"
   ]
  },
  {
   "cell_type": "code",
   "execution_count": null,
   "id": "e780ba97",
   "metadata": {},
   "outputs": [],
   "source": []
  },
  {
   "cell_type": "code",
   "execution_count": null,
   "id": "f83b3594",
   "metadata": {},
   "outputs": [],
   "source": []
  }
 ],
 "metadata": {
  "kernelspec": {
   "display_name": "Python 3 (ipykernel)",
   "language": "python",
   "name": "python3"
  },
  "language_info": {
   "codemirror_mode": {
    "name": "ipython",
    "version": 3
   },
   "file_extension": ".py",
   "mimetype": "text/x-python",
   "name": "python",
   "nbconvert_exporter": "python",
   "pygments_lexer": "ipython3",
   "version": "3.10.6"
  }
 },
 "nbformat": 4,
 "nbformat_minor": 5
}
